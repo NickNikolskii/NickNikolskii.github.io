{
 "cells": [
  {
   "cell_type": "code",
   "execution_count": 1,
   "metadata": {
    "collapsed": true
   },
   "outputs": [],
   "source": [
    "import numpy as np\n",
    "import sys"
   ]
  },
  {
   "cell_type": "code",
   "execution_count": 2,
   "metadata": {
    "collapsed": false
   },
   "outputs": [],
   "source": [
    "#n=6; l=4; k=3\n",
    "#a=np.array([1,3,5])\n",
    "#x=np.array([0,3,4,3,0,-1])\n",
    "#y=np.array([0,0,1,2,2,1])\n",
    "n=4; l=4; k=1\n",
    "a=np.array([4])\n",
    "x=np.array([0,10,10,0])\n",
    "y=np.array([0,0,10,10])"
   ]
  },
  {
   "cell_type": "code",
   "execution_count": 3,
   "metadata": {
    "collapsed": false
   },
   "outputs": [],
   "source": [
    "xn=np.roll(x,-1)\n",
    "yn=np.roll(y,-1)\n",
    "D=np.sqrt((xn-x)**2+(yn-y)**2)\n",
    "m=np.full_like(D,True,dtype=np.bool)\n",
    "m[a-1]=False"
   ]
  },
  {
   "cell_type": "code",
   "execution_count": 4,
   "metadata": {
    "collapsed": false
   },
   "outputs": [
    {
     "name": "stdout",
     "output_type": "stream",
     "text": [
      "6.0\n"
     ]
    }
   ],
   "source": [
    "minDefect=np.inf\n",
    "for i in np.arange(-n+1,n):\n",
    "    cD=np.roll(D,i)\n",
    "    cm=m.copy()\n",
    "    cm=np.roll(cm,i)\n",
    "    dl=l\n",
    "    dOpen=0\n",
    "    for i in np.arange(n):\n",
    "        dl-=cD[i]\n",
    "        #print i,dl,cm[i],cD,cm\n",
    "        if dl>=0: \n",
    "            cm[i]=True\n",
    "        else:\n",
    "            if cm[i]==False: \n",
    "                cm[i]=True; \n",
    "                dOpen=np.abs(dl)\n",
    "            break\n",
    "    defect=sum(cD[~cm])+dOpen\n",
    "    if defect<minDefect: \n",
    "        minDefect=defect\n",
    "\n",
    "print minDefect\n"
   ]
  },
  {
   "cell_type": "code",
   "execution_count": null,
   "metadata": {
    "collapsed": true
   },
   "outputs": [],
   "source": []
  },
  {
   "cell_type": "code",
   "execution_count": null,
   "metadata": {
    "collapsed": true
   },
   "outputs": [],
   "source": []
  },
  {
   "cell_type": "code",
   "execution_count": 5,
   "metadata": {
    "collapsed": false
   },
   "outputs": [
    {
     "name": "stderr",
     "output_type": "stream",
     "text": [
      "/opt/distr/anaconda2/lib/python2.7/site-packages/matplotlib/font_manager.py:273: UserWarning: Matplotlib is building the font cache using fc-list. This may take a moment.\n",
      "  warnings.warn('Matplotlib is building the font cache using fc-list. This may take a moment.')\n"
     ]
    },
    {
     "data": {
      "text/plain": [
       "[<matplotlib.lines.Line2D at 0x7f4ae3a8f290>]"
      ]
     },
     "execution_count": 5,
     "metadata": {},
     "output_type": "execute_result"
    },
    {
     "data": {
      "image/png": "[encoded data removed]",
      "text/plain": [
       "<matplotlib.figure.Figure at 0x7f4af81dff50>"
      ]
     },
     "metadata": {},
     "output_type": "display_data"
    }
   ],
   "source": [
    "%matplotlib inline\n",
    "import matplotlib.pyplot as plt\n",
    "plt.plot(np.r_[x,x[0]],np.r_[y,y[0]],linewidth=5,color='blue')"
   ]
  },
  {
   "cell_type": "code",
   "execution_count": null,
   "metadata": {
    "collapsed": false
   },
   "outputs": [],
   "source": []
  },
  {
   "cell_type": "code",
   "execution_count": null,
   "metadata": {
    "collapsed": true
   },
   "outputs": [],
   "source": []
  }
 ],
 "metadata": {
  "anaconda-cloud": {},
  "kernelspec": {
   "display_name": "Python [default]",
   "language": "python",
   "name": "python2"
  },
  "language_info": {
   "codemirror_mode": {
    "name": "ipython",
    "version": 2
   },
   "file_extension": ".py",
   "mimetype": "text/x-python",
   "name": "python",
   "nbconvert_exporter": "python",
   "pygments_lexer": "ipython2",
   "version": "2.7.12"
  }
 },
 "nbformat": 4,
 "nbformat_minor": 1
}
